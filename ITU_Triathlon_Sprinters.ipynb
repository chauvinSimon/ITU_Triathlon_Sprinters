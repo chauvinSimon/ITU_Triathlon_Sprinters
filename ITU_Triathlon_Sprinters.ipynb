{
 "cells": [
  {
   "cell_type": "code",
   "execution_count": null,
   "metadata": {},
   "outputs": [],
   "source": [
    "import requests  # pip install requests\n",
    "from pprint import pprint\n",
    "import json\n",
    "from datetime import datetime\n",
    "import time"
   ]
  },
  {
   "cell_type": "markdown",
   "metadata": {},
   "source": []
  },
  {
   "cell_type": "markdown",
   "metadata": {},
   "source": [
    "For more details, read the [docs](https://developers.triathlon.org/docs/) and the [references](https://developers.triathlon.org/reference)."
   ]
  },
  {
   "cell_type": "markdown",
   "metadata": {},
   "source": [
    "Get your API key for free on [developers.triathlon.org](https://developers.triathlon.org/) and save it in a `api_key.txt` file."
   ]
  },
  {
   "cell_type": "code",
   "execution_count": null,
   "metadata": {},
   "outputs": [],
   "source": [
    "with open(\"api_key.txt\", \"r\") as f:\n",
    "    api_key = f.readline()\n",
    "headers = {'apikey': api_key}"
   ]
  },
  {
   "cell_type": "code",
   "execution_count": null,
   "metadata": {},
   "outputs": [],
   "source": [
    "url_prefix = \"https://api.triathlon.org/v1/\""
   ]
  },
  {
   "cell_type": "code",
   "execution_count": null,
   "metadata": {},
   "outputs": [],
   "source": [
    "def get_request(url, params=\"\"):\n",
    "    print(url)\n",
    "    response = requests.request(\"GET\", url, headers=headers, params=params)\n",
    "    d = json.loads(response.text)\n",
    "    d = d[\"data\"]\n",
    "    return d"
   ]
  },
  {
   "cell_type": "code",
   "execution_count": null,
   "metadata": {},
   "outputs": [],
   "source": []
  },
  {
   "cell_type": "code",
   "execution_count": null,
   "metadata": {},
   "outputs": [],
   "source": [
    "# option1: get all participants of all 2019 WTS\n",
    "url_suffix = \"events?category_id=351&start_date=2019-01-01&end_date=2020-01-01&target_property=event.event_id&group_by=program.name\"\n",
    "res = get_request(url_prefix + url_suffix)\n",
    "event_ids = [e[\"event_id\"] for e in res]\n",
    "event_titles = [e[\"event_title\"] for e in res]\n",
    "\n",
    "# option2: get all participants of the Olympic Qualification Event\n",
    "# 130072, '2019 Tokyo ITU World Olympic Qualification Event'\n",
    "event_ids = [130072]\n",
    "event_titles = ['2019 Tokyo ITU World Olympic Qualification Event']\n",
    "\n",
    "z = zip(event_ids, event_titles)\n",
    "for i in z:\n",
    "    print(i)"
   ]
  },
  {
   "cell_type": "code",
   "execution_count": null,
   "metadata": {
    "scrolled": true
   },
   "outputs": [],
   "source": [
    "def get_prog_id(event_id, prog_name = 'Elite Men'): \n",
    "    url = \"{}events/{}/programs\".format(url_prefix, str(event_id))\n",
    "    res = get_request(url)\n",
    "    # print(res)\n",
    "    rr = next((r for r in res if r[\"prog_name\"] == prog_name), None)\n",
    "    if rr is not None:\n",
    "        print(\"{} - {} - {}\".format(rr[\"prog_date\"], rr[\"event_id\"], rr[\"prog_id\"]))\n",
    "        return rr[\"prog_id\"]\n",
    "        \n",
    "event_prog_ids = []\n",
    "for event_id in event_ids:\n",
    "    prog_id = get_prog_id(event_id)\n",
    "    if prog_id is not None:\n",
    "        event_prog_ids.append([event_id, prog_id])\n",
    "print(event_prog_ids)"
   ]
  },
  {
   "cell_type": "code",
   "execution_count": null,
   "metadata": {},
   "outputs": [],
   "source": [
    "def get_athlete_ids(event_id, prog_id):\n",
    "    url = \"https://api.triathlon.org/v1/events/{}/programs/{}/entries\".format(str(event_id), str(prog_id))\n",
    "    res = get_request(url, params={\"type\":\"start\"})\n",
    "    entries = res[\"entries\"]\n",
    "    # pprint(entries)\n",
    "    athlete_ids = []\n",
    "    athlete_slugs = []\n",
    "    for a in entries:\n",
    "        athlete_ids.append(a[\"athlete_id\"])\n",
    "        athlete_slugs.append(a[\"athlete_slug\"])\n",
    "    return athlete_ids, dict(zip(athlete_ids, athlete_slugs))"
   ]
  },
  {
   "cell_type": "code",
   "execution_count": null,
   "metadata": {
    "scrolled": true
   },
   "outputs": [],
   "source": [
    "for event_id, event_prog in event_prog_ids:\n",
    "    athlete_ids, athletes_mappings = get_athlete_ids(event_id, event_prog)    "
   ]
  },
  {
   "cell_type": "code",
   "execution_count": null,
   "metadata": {},
   "outputs": [],
   "source": [
    "pprint(athletes_mappings)"
   ]
  },
  {
   "cell_type": "code",
   "execution_count": null,
   "metadata": {},
   "outputs": [],
   "source": [
    "entries_limit = 20\n",
    "def get_stats_res_one_athlete(athlete_id):\n",
    "    url = \"https://api.triathlon.org/v1/athletes/{}/results\".format(athlete_id)\n",
    "    res = get_request(url, params={\"type\":\"start\", \"per_page\":str(entries_limit), \"category_id\":\"351\"})\n",
    "    stats = []\n",
    "    for r in res:\n",
    "        categories = [c[\"cat_id\"] for c in r[\"event_categories\"]]\n",
    "        if 351 in categories:\n",
    "            stats.append([r[\"result_api_listing\"], r[\"position\"]])\n",
    "        else:\n",
    "            \"not a WTS\"  # should not happen\n",
    "    return stats"
   ]
  },
  {
   "cell_type": "code",
   "execution_count": null,
   "metadata": {},
   "outputs": [],
   "source": [
    "def str_to_time(str_):\n",
    "    time_ = datetime.strptime(str_, '%H:%M:%S')\n",
    "    return time_\n",
    "\n",
    "def get_gap(result_api_listing, position):\n",
    "    res = get_request(result_api_listing)\n",
    "    try:\n",
    "        previous_time = res[\"results\"][position-1][\"total_time\"]\n",
    "        current_time = res[\"results\"][position][\"total_time\"]\n",
    "        next_time = res[\"results\"][position+1][\"total_time\"]\n",
    "\n",
    "        previous_time = str_to_time(previous_time)\n",
    "        current_time = str_to_time(current_time)\n",
    "        next_time = str_to_time(next_time)\n",
    "\n",
    "        gap_before = (current_time - previous_time).total_seconds()\n",
    "        gap_after = (next_time - current_time).total_seconds()\n",
    "        return [gap_before, gap_after]\n",
    "    except Exception as e:\n",
    "        print(\"exception: {}\".format(e))\n",
    "        return [None, None]"
   ]
  },
  {
   "cell_type": "code",
   "execution_count": null,
   "metadata": {},
   "outputs": [],
   "source": [
    "start = time.time()\n",
    "athlete_counter = 0\n",
    "athletes_gaps = {}\n",
    "for athlete_id in athlete_ids:  # [0:2]\n",
    "    athlete_counter += 1\n",
    "    stats = get_stats_res_one_athlete(athlete_id)\n",
    "    print(\"{} results for {}:\".format(len(stats), athletes_mappings[athlete_id]))\n",
    "    gaps_before = []\n",
    "    gaps_after = []\n",
    "    for result_api_listing, position in stats:\n",
    "        # todo: special case if first\n",
    "        if isinstance(position, int) and position > 1:\n",
    "            gap_before, gap_after = get_gap(result_api_listing, position)\n",
    "            if gap_before is not None:\n",
    "                gaps_before.append(gap_before)\n",
    "            if gap_after is not None:\n",
    "                gaps_after.append(gap_after)\n",
    "    athletes_gaps[athlete_id] = [gaps_before, gaps_after]\n",
    "    print(\"{}: {}\".format(athletes_mappings[athlete_id], [gaps_before, gaps_after]))\n",
    "    print(\"counter = {} -- intermediate duration = {:.2f} s\".format(athlete_counter, time.time() - start))\n",
    "print(\"total duration = {:.2f} s\".format(time.time() - start))"
   ]
  },
  {
   "cell_type": "code",
   "execution_count": null,
   "metadata": {},
   "outputs": [],
   "source": [
    "print(\"len(athletes_gaps) = {}\".format(len(athletes_gaps)))"
   ]
  },
  {
   "cell_type": "code",
   "execution_count": null,
   "metadata": {},
   "outputs": [],
   "source": []
  },
  {
   "cell_type": "code",
   "execution_count": null,
   "metadata": {},
   "outputs": [],
   "source": [
    "read_from_file = False\n",
    "write_to_file = True"
   ]
  },
  {
   "cell_type": "code",
   "execution_count": null,
   "metadata": {},
   "outputs": [],
   "source": [
    "if write_to_file:\n",
    "    to_write = {\"athletes_gaps\": athletes_gaps,\n",
    "                \"athletes_mappings\": athletes_mappings}\n",
    "    with open(\"athletes_gaps_and_mappings.json\", \"w\") as f:\n",
    "        json.dump(to_write, f)"
   ]
  },
  {
   "cell_type": "code",
   "execution_count": null,
   "metadata": {},
   "outputs": [],
   "source": [
    "if read_from_file:\n",
    "    with open(\"athletes_gaps_and_mappings.json\") as f:\n",
    "        loaded_data = json.load(f)\n",
    "        athletes_mappings = loaded_data[\"athletes_mappings\"]\n",
    "        athletes_gaps = loaded_data[\"athletes_gaps\"]"
   ]
  },
  {
   "cell_type": "code",
   "execution_count": null,
   "metadata": {
    "scrolled": false
   },
   "outputs": [],
   "source": [
    "for a_id, a_n in athletes_mappings.items():\n",
    "    print(a_id)\n",
    "    print(a_n)\n",
    "    if a_id in athletes_gaps:\n",
    "        print(athletes_gaps[a_id])"
   ]
  },
  {
   "cell_type": "code",
   "execution_count": 44,
   "metadata": {},
   "outputs": [
    {
     "name": "stdout",
     "output_type": "stream",
     "text": [
      "roberto_sanchez_mantecon\n",
      "   before: sub2-%=0.0 mean=5.00 min=2.0 max=10.0 len=3\n",
      "   after:  sub2-%=0.0 mean=9.67 min=2.0 max=22.0 len=3\n",
      "alessandro_fabian\n",
      "   before: sub2-%=5.6 mean=9.44 min=1.0 max=50.0 len=18\n",
      "   after:  sub2-%=22.2 mean=12.56 min=1.0 max=88.0 len=18\n",
      "rostislav_pevtsov\n",
      "   before: sub2-%=40.0 mean=3.53 min=0.0 max=19.0 len=15\n",
      "   after:  sub2-%=26.7 mean=3.13 min=0.0 max=8.0 len=15\n",
      "antonio_serrat_seoane\n",
      "   before: sub2-%=15.8 mean=8.47 min=0.0 max=26.0 len=19\n",
      "   after:  sub2-%=15.8 mean=5.16 min=0.0 max=20.0 len=19\n",
      "lukas_hollaus\n",
      "   before: sub2-%=26.7 mean=5.60 min=1.0 max=22.0 len=15\n",
      "   after:  sub2-%=33.3 mean=8.47 min=0.0 max=46.0 len=15\n",
      "leo_bergere\n",
      "   before: sub2-%=11.8 mean=8.29 min=1.0 max=40.0 len=17\n",
      "   after:  sub2-%=5.9 mean=5.47 min=1.0 max=20.0 len=17\n",
      "dorian_coninx\n",
      "   before: sub2-%=14.3 mean=6.57 min=1.0 max=16.0 len=14\n",
      "   after:  sub2-%=21.4 mean=3.50 min=0.0 max=11.0 len=14\n",
      "pierre_le_corre\n",
      "   before: sub2-%=17.6 mean=6.00 min=0.0 max=36.0 len=17\n",
      "   after:  sub2-%=29.4 mean=3.71 min=0.0 max=8.0 len=17\n",
      "vincent_luis\n",
      "   before: sub2-%=31.2 mean=6.94 min=1.0 max=29.0 len=16\n",
      "   after:  sub2-%=18.8 mean=7.31 min=0.0 max=36.0 len=16\n",
      "tamas_toth\n",
      "   before: sub2-%=5.9 mean=6.94 min=1.0 max=22.0 len=17\n",
      "   after:  sub2-%=35.3 mean=10.00 min=0.0 max=72.0 len=17\n",
      "mark_devay\n",
      "   before: sub2-%=0.0 mean=13.40 min=3.0 max=35.0 len=5\n",
      "   after:  sub2-%=20.0 mean=16.60 min=1.0 max=61.0 len=5\n",
      "bence_bicsak\n",
      "   before: sub2-%=38.5 mean=4.23 min=0.0 max=12.0 len=13\n",
      "   after:  sub2-%=15.4 mean=6.62 min=1.0 max=19.0 len=13\n",
      "kevin_mcdowell\n",
      "   before: sub2-%=0.0 mean=6.67 min=2.0 max=18.0 len=18\n",
      "   after:  sub2-%=5.6 mean=6.17 min=0.0 max=26.0 len=18\n",
      "tony_smoragiewicz\n",
      "   before: sub2-%=9.1 mean=13.45 min=0.0 max=72.0 len=11\n",
      "   after:  sub2-%=18.2 mean=6.18 min=0.0 max=14.0 len=11\n",
      "morgan_pearson\n",
      "   before: sub2-%=20.0 mean=5.80 min=1.0 max=10.0 len=5\n",
      "   after:  sub2-%=20.0 mean=8.00 min=0.0 max=32.0 len=5\n",
      "shachar_sagiv\n",
      "   before: sub2-%=23.5 mean=14.35 min=1.0 max=98.0 len=17\n",
      "   after:  sub2-%=17.6 mean=7.59 min=1.0 max=26.0 len=17\n",
      "manoel_messias\n",
      "   before: sub2-%=0.0 mean=15.25 min=2.0 max=50.0 len=8\n",
      "   after:  sub2-%=25.0 mean=6.12 min=0.0 max=17.0 len=8\n",
      "genis_grau\n",
      "delian_stateff\n",
      "   before: sub2-%=0.0 mean=16.43 min=2.0 max=86.0 len=7\n",
      "   after:  sub2-%=28.6 mean=7.00 min=1.0 max=27.0 len=7\n",
      "thomas_bishop\n",
      "   before: sub2-%=5.3 mean=8.11 min=1.0 max=23.0 len=19\n",
      "   after:  sub2-%=21.1 mean=8.42 min=0.0 max=52.0 len=19\n",
      "alex_yee\n",
      "   before: sub2-%=0.0 mean=9.33 min=2.0 max=17.0 len=6\n",
      "   after:  sub2-%=16.7 mean=8.50 min=1.0 max=17.0 len=6\n",
      "jonathan_brownlee\n",
      "   before: sub2-%=13.3 mean=12.73 min=0.0 max=47.0 len=15\n",
      "   after:  sub2-%=26.7 mean=11.93 min=0.0 max=29.0 len=15\n",
      "ryan_fisher\n",
      "   before: sub2-%=11.1 mean=5.94 min=1.0 max=21.0 len=18\n",
      "   after:  sub2-%=22.2 mean=12.94 min=0.0 max=100.0 len=18\n",
      "matthew_hauser\n",
      "   before: sub2-%=0.0 mean=4.88 min=2.0 max=8.0 len=8\n",
      "   after:  sub2-%=0.0 mean=5.50 min=2.0 max=15.0 len=8\n",
      "luke_willian\n",
      "   before: sub2-%=23.5 mean=8.76 min=0.0 max=87.0 len=17\n",
      "   after:  sub2-%=17.6 mean=5.65 min=0.0 max=30.0 len=17\n",
      "aaron_royle\n",
      "   before: sub2-%=10.5 mean=7.37 min=1.0 max=16.0 len=19\n",
      "   after:  sub2-%=5.3 mean=7.16 min=0.0 max=19.0 len=19\n",
      "jacob_birtwhistle\n",
      "   before: sub2-%=0.0 mean=7.87 min=2.0 max=23.0 len=15\n",
      "   after:  sub2-%=13.3 mean=9.93 min=0.0 max=41.0 len=15\n",
      "dmitry_polyanskiy\n",
      "   before: sub2-%=6.2 mean=8.69 min=1.0 max=39.0 len=16\n",
      "   after:  sub2-%=0.0 mean=12.44 min=2.0 max=46.0 len=16\n",
      "tyler_mislawchuk\n",
      "   before: sub2-%=23.5 mean=7.76 min=0.0 max=32.0 len=17\n",
      "   after:  sub2-%=23.5 mean=4.18 min=0.0 max=21.0 len=17\n",
      "matthew_sharpe\n",
      "   before: sub2-%=17.6 mean=13.47 min=0.0 max=86.0 len=17\n",
      "   after:  sub2-%=11.8 mean=10.06 min=0.0 max=29.0 len=17\n",
      "alexis_lepage\n",
      "   before: sub2-%=16.7 mean=9.00 min=1.0 max=15.0 len=12\n",
      "   after:  sub2-%=16.7 mean=8.25 min=0.0 max=23.0 len=12\n",
      "matthew_mcelroy\n",
      "   before: sub2-%=16.7 mean=13.42 min=0.0 max=76.0 len=12\n",
      "   after:  sub2-%=16.7 mean=7.17 min=1.0 max=22.0 len=12\n",
      "eli_hemming\n",
      "   before: sub2-%=15.4 mean=8.54 min=0.0 max=27.0 len=13\n",
      "   after:  sub2-%=15.4 mean=13.92 min=0.0 max=84.0 len=13\n",
      "takumi_hojo\n",
      "   before: sub2-%=0.0 mean=25.00 min=3.0 max=67.0 len=4\n",
      "   after:  sub2-%=0.0 mean=20.75 min=5.0 max=67.0 len=4\n",
      "luciano_taccone\n",
      "   before: sub2-%=18.2 mean=10.45 min=0.0 max=52.0 len=11\n",
      "   after:  sub2-%=18.2 mean=19.27 min=0.0 max=81.0 len=11\n",
      "lasse_luehrs\n",
      "   before: sub2-%=16.7 mean=7.83 min=0.0 max=32.0 len=12\n",
      "   after:  sub2-%=25.0 mean=5.83 min=0.0 max=18.0 len=12\n",
      "jelle_geens\n",
      "   before: sub2-%=38.5 mean=6.62 min=0.0 max=40.0 len=13\n",
      "   after:  sub2-%=0.0 mean=8.77 min=2.0 max=20.0 len=13\n",
      "marten_van_riel\n",
      "   before: sub2-%=21.1 mean=5.53 min=0.0 max=28.0 len=19\n",
      "   after:  sub2-%=10.5 mean=4.79 min=0.0 max=12.0 len=19\n",
      "sam_ward\n",
      "   before: sub2-%=17.6 mean=6.76 min=0.0 max=37.0 len=17\n",
      "   after:  sub2-%=23.5 mean=5.76 min=0.0 max=24.0 len=17\n",
      "ryan_sissons\n",
      "   before: sub2-%=16.7 mean=3.11 min=0.0 max=6.0 len=18\n",
      "   after:  sub2-%=22.2 mean=3.44 min=0.0 max=12.0 len=18\n",
      "joao_silva\n",
      "   before: sub2-%=26.7 mean=5.87 min=0.0 max=27.0 len=15\n",
      "   after:  sub2-%=26.7 mean=12.33 min=0.0 max=76.0 len=15\n",
      "joao_pereira\n",
      "   before: sub2-%=29.4 mean=7.12 min=0.0 max=30.0 len=17\n",
      "   after:  sub2-%=23.5 mean=8.65 min=0.0 max=72.0 len=17\n",
      "hayden_wilde\n",
      "   before: sub2-%=0.0 mean=4.75 min=2.0 max=7.0 len=8\n",
      "   after:  sub2-%=12.5 mean=5.00 min=0.0 max=9.0 len=8\n",
      "wian_sullwald\n",
      "   before: sub2-%=0.0 mean=10.71 min=2.0 max=67.0 len=14\n",
      "   after:  sub2-%=7.1 mean=26.79 min=1.0 max=154.0 len=14\n",
      "alois_knabl\n",
      "   before: sub2-%=52.9 mean=2.53 min=0.0 max=11.0 len=17\n",
      "   after:  sub2-%=17.6 mean=8.24 min=0.0 max=19.0 len=17\n",
      "sylvain_fridelance\n",
      "   before: sub2-%=42.9 mean=6.36 min=0.0 max=26.0 len=14\n",
      "   after:  sub2-%=14.3 mean=11.29 min=1.0 max=34.0 len=14\n",
      "richard_varga\n",
      "   before: sub2-%=0.0 mean=14.24 min=3.0 max=84.0 len=17\n",
      "   after:  sub2-%=23.5 mean=15.00 min=0.0 max=148.0 len=17\n",
      "richard_murray\n",
      "   before: sub2-%=16.7 mean=8.06 min=0.0 max=25.0 len=18\n",
      "   after:  sub2-%=11.1 mean=7.06 min=1.0 max=25.0 len=18\n",
      "kristian_blummenfelt\n",
      "   before: sub2-%=6.2 mean=12.38 min=0.0 max=52.0 len=16\n",
      "   after:  sub2-%=18.8 mean=11.12 min=0.0 max=40.0 len=16\n",
      "casper_stornes\n",
      "   before: sub2-%=13.3 mean=16.33 min=0.0 max=79.0 len=15\n",
      "   after:  sub2-%=20.0 mean=10.20 min=0.0 max=85.0 len=15\n",
      "makoto_odakura\n",
      "   before: sub2-%=0.0 mean=14.33 min=6.0 max=26.0 len=6\n",
      "   after:  sub2-%=16.7 mean=7.83 min=1.0 max=18.0 len=6\n",
      "jumpei_furuya\n",
      "   before: sub2-%=6.2 mean=10.69 min=0.0 max=27.0 len=16\n",
      "   after:  sub2-%=18.8 mean=18.38 min=0.0 max=73.0 len=16\n",
      "tayler_reid\n",
      "   before: sub2-%=26.7 mean=13.73 min=1.0 max=48.0 len=15\n",
      "   after:  sub2-%=6.7 mean=9.67 min=0.0 max=26.0 len=15\n",
      "russell_white\n",
      "   before: sub2-%=25.0 mean=8.56 min=0.0 max=31.0 len=16\n",
      "   after:  sub2-%=0.0 mean=18.75 min=3.0 max=48.0 len=16\n",
      "valentin_wernz\n",
      "   before: sub2-%=0.0 mean=17.00 min=3.0 max=39.0 len=3\n",
      "   after:  sub2-%=33.3 mean=11.33 min=1.0 max=27.0 len=3\n",
      "maximilian_schwetz\n",
      "   before: sub2-%=50.0 mean=3.12 min=0.0 max=9.0 len=8\n",
      "   after:  sub2-%=37.5 mean=3.12 min=0.0 max=8.0 len=8\n",
      "justus_nieschlag\n",
      "   before: sub2-%=12.5 mean=6.88 min=1.0 max=38.0 len=16\n",
      "   after:  sub2-%=31.2 mean=10.62 min=0.0 max=98.0 len=16\n",
      "jonas_schomburg\n",
      "   before: sub2-%=16.7 mean=12.17 min=1.0 max=71.0 len=18\n",
      "   after:  sub2-%=5.6 mean=15.61 min=0.0 max=88.0 len=18\n",
      "ayan_beisenbayev\n",
      "   before: sub2-%=50.0 mean=15.50 min=1.0 max=30.0 len=2\n",
      "   after:  sub2-%=50.0 mean=36.00 min=1.0 max=71.0 len=2\n",
      "irving_perez\n",
      "   before: sub2-%=26.3 mean=7.21 min=0.0 max=43.0 len=19\n",
      "   after:  sub2-%=26.3 mean=7.26 min=1.0 max=23.0 len=19\n",
      "rodrigo_gonzalez\n",
      "   before: sub2-%=7.7 mean=13.69 min=0.0 max=37.0 len=13\n",
      "   after:  sub2-%=15.4 mean=8.08 min=0.0 max=23.0 len=13\n",
      "crisanto_grajales\n",
      "   before: sub2-%=10.0 mean=5.45 min=1.0 max=16.0 len=20\n",
      "   after:  sub2-%=20.0 mean=14.45 min=1.0 max=84.0 len=20\n",
      "stefan_zachaeus\n",
      "   before: sub2-%=5.9 mean=15.24 min=0.0 max=68.0 len=17\n",
      "   after:  sub2-%=5.9 mean=9.53 min=1.0 max=32.0 len=17\n",
      "gustav_iden\n",
      "   before: sub2-%=13.3 mean=6.53 min=1.0 max=35.0 len=15\n",
      "   after:  sub2-%=13.3 mean=8.73 min=0.0 max=43.0 len=15\n",
      "henri_schoeman\n",
      "   before: sub2-%=7.1 mean=11.86 min=0.0 max=45.0 len=14\n",
      "   after:  sub2-%=21.4 mean=10.36 min=0.0 max=67.0 len=14\n"
     ]
    }
   ],
   "source": [
    "for a, gaps in athletes_gaps.items():\n",
    "    print(athletes_mappings[a])\n",
    "    gaps[0] = [x for x in gaps[0] if x is not None]\n",
    "    if len(gaps[0]) > 0:\n",
    "        print(\"   before: sub2-%={:.1f} mean={:.2f} min={} max={} len={}\".format(100*sum(i < 2 for i in gaps[0])/len(gaps[0]), sum(gaps[0])/len(gaps[0]), min(gaps[0]), max(gaps[0]), len(gaps[0])))\n",
    "    gaps[1] = [x for x in gaps[1] if x is not None]\n",
    "    if len(gaps[1]) > 0:\n",
    "        print(\"   after:  sub2-%={:.1f} mean={:.2f} min={} max={} len={}\".format(100*sum(i < 2 for i in gaps[1])/len(gaps[1]), sum(gaps[1])/len(gaps[1]), min(gaps[1]), max(gaps[1]), len(gaps[1])))"
   ]
  },
  {
   "cell_type": "code",
   "execution_count": null,
   "metadata": {},
   "outputs": [],
   "source": []
  },
  {
   "cell_type": "code",
   "execution_count": null,
   "metadata": {},
   "outputs": [],
   "source": [
    "\"\"\"\n",
    "url_suffix = \"events/\"\n",
    "url_suffix = \"statistics/results?analysis=count_unique&target_property=event.name\"\n",
    "url_suffix = \"statistics/results?analysis=average&target_property=athlete.age&group_by=format|athlete.gender\"\n",
    "url_suffix = \"statistics/results?analysis=count&filters=position,lte,10&group_by=athlete.country|athlete.gender&timeframe=this_year\"\n",
    "url_suffix = \"statistics/results?analysis=minimum&target_property=position&filters=athlete.country,eq,JPN|athlete.gender,eq,male\"\n",
    "url_suffix = \"statistics/results?analysis=minimum&target_property=position&filters=athlete.country,eq,JPN|athlete.gender,eq,male|position,eq,7&group_by=athlete.name|event.name\"\n",
    "url_suffix = \"statistics/results?analysis=count&filters=athlete.name,eq,Alistair%20Brownlee|position,lte,3&group_by=position\"\n",
    "url_suffix = \"statistics/results?analysis=count_unique&target_property=event.name&group_by=event.name|program.id|program.name\"\n",
    "\"\"\""
   ]
  },
  {
   "cell_type": "code",
   "execution_count": null,
   "metadata": {},
   "outputs": [],
   "source": []
  }
 ],
 "metadata": {
  "kernelspec": {
   "display_name": "draft",
   "language": "python",
   "name": "draft"
  },
  "language_info": {
   "codemirror_mode": {
    "name": "ipython",
    "version": 3
   },
   "file_extension": ".py",
   "mimetype": "text/x-python",
   "name": "python",
   "nbconvert_exporter": "python",
   "pygments_lexer": "ipython3",
   "version": "3.6.8"
  }
 },
 "nbformat": 4,
 "nbformat_minor": 2
}
